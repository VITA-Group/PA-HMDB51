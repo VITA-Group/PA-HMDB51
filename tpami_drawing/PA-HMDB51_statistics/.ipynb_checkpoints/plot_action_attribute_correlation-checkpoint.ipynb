{
 "cells": [
  {
   "cell_type": "code",
   "execution_count": 4,
   "metadata": {},
   "outputs": [
    {
     "name": "stdout",
     "output_type": "stream",
     "text": [
      "{'skin_color': ['0', '1', '2', '3', '4'], 'relationship': ['0', '1'], 'face': ['0', '1', '2'], 'nudity': ['0', '1', '2'], 'gender': ['0', '1', '2', '3']}\n",
      "r <class '_csv.reader'>\n",
      "['draw sword', 'kiss', 'ride bike', 'dribble', 'hug', 'dive', 'cartwheel', 'drink', 'climb', 'eat', 'walk', 'fall floor', 'stand', 'sword', 'pick', 'swing baseball', 'handstand', 'shoot bow', 'fencing', 'talk', 'shoot ball', 'kick ball', 'push', 'pour', 'wave', 'ride horse', 'flic flac', 'turn', 'shake hands', 'somersault', 'climb stairs', 'golf', 'smoke', 'situp', 'shoot gun', 'punch', 'run', 'sit', 'smile', 'kick', 'sword exercise', 'laugh', 'throw', 'pushup', 'hit', 'chew', 'clap', 'pullup', 'catch', 'jump', 'brush hair']\n",
      "['5', '6', '6', '6', '8', '8', '9', '9', '10', '10', '10', '10', '10', '10', '10', '10', '10', '10', '10', '10', '10', '10', '10', '10', '10', '10', '10', '10', '10', '10', '10', '10', '10', '10', '10', '10', '10', '10', '10', '10', '10', '10', '10', '11', '11', '11', '11', '12', '12', '15', '25']\n",
      "['draw sword', 'kiss', 'ride bike', 'dribble', 'hug', 'dive', 'cartwheel', 'drink', 'climb', 'eat', 'walk', 'fall floor', 'stand', 'sword', 'pick', 'swing baseball', 'handstand', 'shoot bow', 'fencing', 'talk', 'shoot ball', 'kick ball', 'push', 'pour', 'wave', 'ride horse', 'flic flac', 'turn', 'shake hands', 'somersault', 'climb stairs', 'golf', 'smoke', 'situp', 'shoot gun', 'punch', 'run', 'sit', 'smile', 'kick', 'sword exercise', 'laugh', 'throw', 'pushup', 'hit', 'chew', 'clap', 'pullup', 'catch', 'jump', 'brush hair']\n"
     ]
    }
   ],
   "source": [
    "'''\n",
    "All labeled videos in PA-HMDB51 are used as testing set.\n",
    "The rest videos in HMDB51 are used as training set.\n",
    "This script gets the file names of PA_HMDB51 dataset.\n",
    "'''\n",
    "\n",
    "import numpy as np \n",
    "import matplotlib.pyplot as plt\n",
    "import matplotlib\n",
    "plt.style.use(['/Users/wuzhenyu/.matplotlib/stylelib/science.mplstyle', \n",
    "               '/Users/wuzhenyu/.matplotlib/stylelib/ieee.mplstyle'])\n",
    "import json, os, csv\n",
    "\n",
    "from calculate_statistics import attribute_list\n",
    "\n",
    "attribute_value_dict = {\n",
    "    'skin_color': ['0', '1', '2', '3', '4'],\n",
    "    'relationship': ['0', '1'],\n",
    "    'face': ['0', '1', '2'], \n",
    "    'nudity': ['0', '1' ,'2'],\n",
    "    'gender': ['0', '1', '2', '3']\n",
    "    }\n",
    "\n",
    "print(attribute_value_dict)\n",
    "\n",
    "r = csv.reader(open('act_vid_dist.csv', 'r'), delimiter=',')\n",
    "print('r', type(r))\n",
    "for i, row in enumerate(r):\n",
    "    if i == 0:\n",
    "        action_list = row\n",
    "    elif i == 1:\n",
    "        action_number = np.array(row).astype(int)\n",
    "    print(row)\n",
    "print(action_list)\n",
    "\n",
    "attr_list = [attr.replace('_', ' ') for attr in attribute_list]\n",
    "attr_value_dict = {k.replace('_', ' '):v for k,v in attribute_value_dict.items()}\n",
    "attr_act_corl_mat = json.load(open(os.path.join(\"attr_act_corl_mat.json\")))\n",
    "attr_act_corl_mat = {k.replace('_', ' '):v for k,v in attr_act_corl_mat.items()}\n",
    "attr_value_num = json.load(open(os.path.join(\"attr_value_num.json\")))\n",
    "attr_value_num = {k.replace('_', ' '):v for k,v in attr_value_num.items()}\n",
    "skin_color_lst = attr_value_num['skin color']\n",
    "attr_value_num['skin color'] = [skin_color_lst[0], skin_color_lst[1], skin_color_lst[2], skin_color_lst[3], sum(skin_color_lst[-3:])]"
   ]
  },
  {
   "cell_type": "code",
   "execution_count": 5,
   "metadata": {},
   "outputs": [
    {
     "name": "stdout",
     "output_type": "stream",
     "text": [
      "51\n",
      "51\n"
     ]
    }
   ],
   "source": [
    "attr_act_corl_skin = attr_act_corl_mat['skin color']\n",
    "\n",
    "print(len(attr_act_corl_skin[0]))\n",
    "\n",
    "coexist_corl = [sum(item) for item in zip(attr_act_corl_skin[4], attr_act_corl_skin[5], attr_act_corl_skin[6])]\n",
    "print(len(coexist_corl))\n",
    "attr_act_corl_mat['skin color'] = [attr_act_corl_skin[0], attr_act_corl_skin[1], attr_act_corl_skin[2], \n",
    "                                   attr_act_corl_skin[3], coexist_corl]\n",
    "\n",
    "fontsize_ticks = 24\n",
    "fontsize_legend = 36\n",
    "fontsize_axis_labels = 48"
   ]
  },
  {
   "cell_type": "code",
   "execution_count": 6,
   "metadata": {},
   "outputs": [],
   "source": [
    "def plot_action_attribute_correlation():\n",
    "    attr_value_dict = {'skin color': ['unidentifiable', 'white', 'brown/yellow', 'black', 'coexisting'], \n",
    "                   'relationship': ['unidentifiable', 'identifiable'], \n",
    "                   'face': ['invisible', 'partially visible', 'completely visible'], \n",
    "                   'nudity': ['no-nudity', 'partial-nudity', 'semi-nudity'], \n",
    "                   'gender': ['unidentifiable', 'male', 'female', 'coexisting']}\n",
    "    \n",
    "    plt.figure(figsize=(48, 48))\n",
    "    plt.subplots_adjust(left=0.05, bottom=0, right=1.1, top=1, wspace=0.1, hspace=0.05)\n",
    "    for i, attr in enumerate(attr_list):\n",
    "        print(len(attr_act_corl_mat[attr][0]))\n",
    "        attr_act_corl_chunk = np.array(attr_act_corl_mat[attr])\n",
    "        norm_chunk = np.reciprocal(np.tile(np.sum(attr_act_corl_chunk, axis=0), (attr_act_corl_chunk.shape[0],1)))\n",
    "        heat_matrix = np.multiply(attr_act_corl_chunk, norm_chunk)\n",
    "        \n",
    "        # fig, ax = plt.subplots()\n",
    "        ax = plt.subplot(5,1,i+1)\n",
    "        \n",
    "        plt.imshow(heat_matrix, cmap='hot', interpolation='nearest')\n",
    "        \n",
    "        from mpl_toolkits.axes_grid1 import make_axes_locatable\n",
    "        divider = make_axes_locatable(ax)\n",
    "        cax = divider.append_axes(\"left\", size=\"5%\", pad=1.2)\n",
    "        cbar = plt.colorbar(orientation='vertical', shrink=0.8, cax=cax)\n",
    "        cbar.ax.tick_params(labelsize=48)\n",
    "        #\n",
    "        # We want to show all ticks...\n",
    "        ax.set_xticks(np.arange(len(action_list)))\n",
    "        ax.set_yticks(np.arange(len(attr_value_dict[attr])))\n",
    "        # ... and label them with the respective list entries\n",
    "        ax.set_xticklabels([fname.replace('_', ' ') for fname in action_list])\n",
    "        ax.set_yticklabels(attr_value_dict[attr])\n",
    "        ax.tick_params(labelsize=fontsize_axis_labels, which='both', axis='both', length=0)\n",
    "\n",
    "        # Rotate the tick labels and set their alignment.\n",
    "        plt.setp(ax.get_xticklabels(), rotation=45, ha=\"right\", rotation_mode=\"anchor\")\n",
    "        \n",
    "#         plt.xticks(fontsize=fontsize_ticks, weight='medium')\n",
    "#         plt.yticks(fontsize=fontsize_ticks, weight='medium')\n",
    "\n",
    "        # title, tick, etc.\n",
    "        plt.title(attr.replace('_', ' '), fontsize=80)\n",
    "        # plt.tick_params(labelsize=fontsize_ticks)\n",
    "\n",
    "        # plt.gcf().subplots_adjust(bottom=0.05, top=0.98, left=0.05, right=0.95)\n",
    "\n",
    "    plt.savefig('action_attribute_correlation_details.pdf',bbox_inches=\"tight\", pad_inches=0)   "
   ]
  },
  {
   "cell_type": "code",
   "execution_count": 64,
   "metadata": {},
   "outputs": [],
   "source": [
    "def plot_action_attribute_correlation_transposed():\n",
    "    matplotlib.rcParams['xtick.major.pad'] = 10\n",
    "    plt.figure(figsize=(14, 24))\n",
    "    ax = plt.subplot(1,1,1)\n",
    "    heat_matrix_lst = []\n",
    "    attr_value_lst = []\n",
    "    for i, attribute in enumerate(attr_list):\n",
    "        attr_act_corl_chunk = np.array(attr_act_corl_mat[attribute])\n",
    "        norm_chunk = np.reciprocal(np.tile(np.sum(attr_act_corl_chunk, axis=0), (attr_act_corl_chunk.shape[0],1)))\n",
    "        heat_matrix_lst.append(np.multiply(attr_act_corl_chunk, norm_chunk))\n",
    "        attr_value_lst.extend(attr_value_dict[attribute])\n",
    "        #print(np.array(attr_act_corl_mat[attribute]).shape)\n",
    "\n",
    "#         print(np.tile(np.sum(attr_act_corl_chunk, axis=0), (attr_act_corl_chunk.shape[0],1)))\n",
    "#         print(attr_act_corl_chunk.shape)\n",
    "#         print(np.sum(np.array(attr_act_corl_mat[attribute]), axis=0))\n",
    "#         print(np.sum(np.array(attr_act_corl_mat[attribute]), axis=1))\n",
    "#         print(np.sum(np.array(attr_act_corl_mat[attribute])))\n",
    "\n",
    "    heat_matrix = np.transpose(np.vstack(heat_matrix_lst))\n",
    "        \n",
    "    img = ax.imshow(heat_matrix, cmap='hot', interpolation='nearest')\n",
    "    from mpl_toolkits.axes_grid1 import make_axes_locatable\n",
    "    divider = make_axes_locatable(ax)\n",
    "    cax = divider.append_axes(\"right\", size=\"5%\", pad=0.05)\n",
    "    plt.colorbar(img, ax=ax, orientation='vertical', shrink=0.8, cax=cax)\n",
    "    \n",
    "    # We want to show all ticks...\n",
    "    ax.set_yticks(np.arange(len(action_list)))\n",
    "    ax.set_xticks(np.arange(len(attr_value_lst)))\n",
    "    ax.xaxis.labelpad = 10\n",
    "\n",
    "    \n",
    "    # ... and label them with the respective list entries\n",
    "    ax.set_yticklabels([fname.replace('_', ' ') for fname in action_list])\n",
    "    ax.set_xticklabels(attr_value_lst)\n",
    "\n",
    "    \n",
    "    plt.tick_params(labelsize=fontsize_ticks)\n",
    "    plt.xticks(fontsize=fontsize_ticks, weight='medium')\n",
    "    plt.yticks(fontsize=fontsize_ticks, weight='medium')\n",
    "    ax.tick_params(labelsize=fontsize_ticks)\n",
    "    # Rotate the tick labels and set their alignment.\n",
    "    plt.setp(ax.get_xticklabels(), rotation=0, ha=\"center\", rotation_mode=\"anchor\")\n",
    "    \n",
    "    \n",
    "    def bracket(ax, len_br, text, pos=[0,0], scalex=1, scaley=1, linekw = {}, textkw = {}):    \n",
    "        x = np.array([0, 0.05*len_br, 0.45*len_br,0.5*len_br])\n",
    "        y = np.array([0,-0.02,-0.02,-0.025])\n",
    "        x = np.concatenate((x,x+0.5*len_br)) \n",
    "        y = np.concatenate((y,y[::-1]))\n",
    "        ax.plot(x*scalex+pos[0], y*scaley+pos[1], clip_on=False, transform=ax.get_xaxis_transform(), **linekw)\n",
    "        print(pos[0]+0.5*scalex+0.5*len_br)\n",
    "        ax.text(pos[0]+0.5*len_br, y.min()*scaley+pos[1], text, \n",
    "                transform=ax.get_xaxis_transform(),\n",
    "                ha=\"center\", va=\"top\", **textkw)\n",
    "        \n",
    "    len_br_lst = [5,2,3,3,4]\n",
    "    text_lst = ['skin color', 'relationship', 'face', 'nudity', 'gender']\n",
    "    sum_len = 0\n",
    "    for i in range(5):\n",
    "        len_br = len_br_lst[i]\n",
    "        text = text_lst[i]\n",
    "        bracket(ax, len_br, text, pos=[-0.5+sum_len,0], scalex=1, scaley=1, \n",
    "                linekw=dict(color=\"black\", ls='-', lw=2), textkw=dict(color=\"blue\", fontweight='bold', fontsize=24))\n",
    "        sum_len += len_br\n",
    "\n",
    "    plt.autoscale(tight=True)\n",
    "    plt.tight_layout()\n",
    "    plt.savefig('action_attribute_correlation.pdf',bbox_inches=\"tight\", pad_inches=0)   "
   ]
  },
  {
   "cell_type": "code",
   "execution_count": 3,
   "metadata": {},
   "outputs": [
    {
     "ename": "NameError",
     "evalue": "name 'attr_value_dict' is not defined",
     "output_type": "error",
     "traceback": [
      "\u001b[0;31m---------------------------------------------------------------------------\u001b[0m",
      "\u001b[0;31mNameError\u001b[0m                                 Traceback (most recent call last)",
      "\u001b[0;32m<ipython-input-3-9d0cbbc4ab26>\u001b[0m in \u001b[0;36m<module>\u001b[0;34m\u001b[0m\n\u001b[0;32m----> 1\u001b[0;31m \u001b[0mprint\u001b[0m\u001b[0;34m(\u001b[0m\u001b[0mattr_value_dict\u001b[0m\u001b[0;34m)\u001b[0m\u001b[0;34m\u001b[0m\u001b[0;34m\u001b[0m\u001b[0m\n\u001b[0m",
      "\u001b[0;31mNameError\u001b[0m: name 'attr_value_dict' is not defined"
     ]
    }
   ],
   "source": [
    "print(attr_value_dict)"
   ]
  },
  {
   "cell_type": "code",
   "execution_count": null,
   "metadata": {},
   "outputs": [
    {
     "name": "stdout",
     "output_type": "stream",
     "text": [
      "51\n",
      "51\n",
      "51\n",
      "51\n",
      "51\n"
     ]
    }
   ],
   "source": [
    "if __name__ == '__main__':\n",
    "    plot_action_attribute_correlation()\n",
    "#     plot_action_attribute_correlation_transposed()"
   ]
  }
 ],
 "metadata": {
  "kernelspec": {
   "display_name": "Python 3",
   "language": "python",
   "name": "python3"
  },
  "language_info": {
   "codemirror_mode": {
    "name": "ipython",
    "version": 3
   },
   "file_extension": ".py",
   "mimetype": "text/x-python",
   "name": "python",
   "nbconvert_exporter": "python",
   "pygments_lexer": "ipython3",
   "version": "3.6.12"
  }
 },
 "nbformat": 4,
 "nbformat_minor": 4
}
