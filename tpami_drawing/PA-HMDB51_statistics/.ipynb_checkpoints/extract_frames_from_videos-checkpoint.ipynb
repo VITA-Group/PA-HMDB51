{
 "cells": [
  {
   "cell_type": "code",
   "execution_count": 13,
   "metadata": {},
   "outputs": [
    {
     "name": "stdout",
     "output_type": "stream",
     "text": [
      "new_videos/sit\n",
      "new_videos/sit/TheBoondockSaints_sit_u_cm_np1_fr_bad_56.avi\n",
      "video: (47, 240, 480, 3)\n"
     ]
    },
    {
     "name": "stderr",
     "output_type": "stream",
     "text": [
      "/Users/wuzhenyu/Documents/anaconda3/envs/privacy_py36/lib/python3.6/site-packages/ipykernel_launcher.py:30: UserWarning: frames/sit/TheBoondockSaints_sit_u_cm_np1_fr_bad_56/46.png is a low contrast image\n"
     ]
    }
   ],
   "source": [
    "import numpy as np \n",
    "from skimage.io import imsave\n",
    "from skvideo.io import vread\n",
    "import os\n",
    "\n",
    "read_dir = 'videos'\n",
    "save_dir = 'frames'\n",
    "\n",
    "for root, dirs, files in os.walk(read_dir):\n",
    "    depth = root[len(read_dir):].count(os.path.sep)\n",
    "    if depth == 1:\n",
    "        action = root.split('/')[-1]\n",
    "        print(root)\n",
    "        for file in files:\n",
    "            if not file.endswith('.avi'):\n",
    "                continue\n",
    "            vid_name = file.split('.')[0]\n",
    "            path = os.path.join(root, file)\n",
    "            print(path)\n",
    "            video = vread(path)\n",
    "            print('video:', video.shape)\n",
    "            for i in range(int(video.shape[0])):\n",
    "                image = video[i,::]\n",
    "                folder_dir = os.path.join(save_dir, action, vid_name)\n",
    "                if not os.path.exists(folder_dir):\n",
    "                    os.makedirs(folder_dir)\n",
    "                imsave(os.path.join(folder_dir, '{}.png'.format(str(i))), image)"
   ]
  }
 ],
 "metadata": {
  "kernelspec": {
   "display_name": "Python 3",
   "language": "python",
   "name": "python3"
  },
  "language_info": {
   "codemirror_mode": {
    "name": "ipython",
    "version": 3
   },
   "file_extension": ".py",
   "mimetype": "text/x-python",
   "name": "python",
   "nbconvert_exporter": "python",
   "pygments_lexer": "ipython3",
   "version": "3.6.12"
  }
 },
 "nbformat": 4,
 "nbformat_minor": 4
}
